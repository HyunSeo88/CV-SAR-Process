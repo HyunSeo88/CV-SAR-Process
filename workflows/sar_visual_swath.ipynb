{
 "cells": [
  {
   "cell_type": "code",
   "execution_count": 5,
   "id": "4bbd818c",
   "metadata": {},
   "outputs": [
    {
     "name": "stdout",
     "output_type": "stream",
     "text": [
      "torch.Size([2, 512, 256])\n"
     ]
    }
   ],
   "source": [
    "import torch\n",
    "import os\n",
    "import numpy as np\n",
    "\n",
    "path = r\"D:\\Sentinel-1\\data\\processed_2\\S1A_IW_SLC__1SDV_20200702T093116_20200702T093146_033274_03DAEF_84AF_Orb_Cal_IW2\\IW2\\S1A_IW_SLC__1SDV_20200702T093116_20200702T093146_033274_03DAEF_84AF_Orb_Cal_IW2_dual_pol_complex_0_0.npy\"\n",
    "data = torch.from_numpy(np.load(path))\n",
    "print(data.shape)"
   ]
  },
  {
   "cell_type": "code",
   "execution_count": 7,
   "id": "6f3cfc96",
   "metadata": {},
   "outputs": [
    {
     "name": "stdout",
     "output_type": "stream",
     "text": [
      "찾은 패치 파일 수: 198669\n",
      "파일 1: S1A_IW_SLC__1SDV_20200702T093116_20200702T093146_033274_03DAEF_84AF_Orb_Cal_IW1_dual_pol_complex_0_0.npy -> 형상: (2, 512, 256)\n",
      "파일 2: S1A_IW_SLC__1SDV_20200702T093116_20200702T093146_033274_03DAEF_84AF_Orb_Cal_IW1_dual_pol_complex_0_1024.npy -> 형상: (2, 512, 256)\n",
      "파일 3: S1A_IW_SLC__1SDV_20200702T093116_20200702T093146_033274_03DAEF_84AF_Orb_Cal_IW1_dual_pol_complex_0_10240.npy -> 형상: (2, 512, 256)\n",
      "파일 4: S1A_IW_SLC__1SDV_20200702T093116_20200702T093146_033274_03DAEF_84AF_Orb_Cal_IW1_dual_pol_complex_0_10752.npy -> 형상: (2, 512, 256)\n",
      "파일 5: S1A_IW_SLC__1SDV_20200702T093116_20200702T093146_033274_03DAEF_84AF_Orb_Cal_IW1_dual_pol_complex_0_11264.npy -> 형상: (2, 512, 256)\n",
      "파일 6: S1A_IW_SLC__1SDV_20200702T093116_20200702T093146_033274_03DAEF_84AF_Orb_Cal_IW1_dual_pol_complex_0_11776.npy -> 형상: (2, 512, 256)\n",
      "파일 1: S1A_IW_SLC__1SDV_20200702T093116_20200702T093146_033274_03DAEF_84AF_Orb_Cal_IW1_dual_pol_complex_0_0.npy -> 형상: (2, 512, 256)\n",
      "파일 2: S1A_IW_SLC__1SDV_20200702T093116_20200702T093146_033274_03DAEF_84AF_Orb_Cal_IW1_dual_pol_complex_0_1024.npy -> 형상: (2, 512, 256)\n",
      "파일 3: S1A_IW_SLC__1SDV_20200702T093116_20200702T093146_033274_03DAEF_84AF_Orb_Cal_IW1_dual_pol_complex_0_10240.npy -> 형상: (2, 512, 256)\n",
      "파일 4: S1A_IW_SLC__1SDV_20200702T093116_20200702T093146_033274_03DAEF_84AF_Orb_Cal_IW1_dual_pol_complex_0_10752.npy -> 형상: (2, 512, 256)\n",
      "파일 5: S1A_IW_SLC__1SDV_20200702T093116_20200702T093146_033274_03DAEF_84AF_Orb_Cal_IW1_dual_pol_complex_0_11264.npy -> 형상: (2, 512, 256)\n",
      "파일 6: S1A_IW_SLC__1SDV_20200702T093116_20200702T093146_033274_03DAEF_84AF_Orb_Cal_IW1_dual_pol_complex_0_11776.npy -> 형상: (2, 512, 256)\n",
      "파일 7: S1A_IW_SLC__1SDV_20200702T093116_20200702T093146_033274_03DAEF_84AF_Orb_Cal_IW1_dual_pol_complex_0_12288.npy -> 형상: (2, 512, 256)\n",
      "파일 8: S1A_IW_SLC__1SDV_20200702T093116_20200702T093146_033274_03DAEF_84AF_Orb_Cal_IW1_dual_pol_complex_0_12800.npy -> 형상: (2, 512, 256)\n",
      "파일 9: S1A_IW_SLC__1SDV_20200702T093116_20200702T093146_033274_03DAEF_84AF_Orb_Cal_IW1_dual_pol_complex_0_1536.npy -> 형상: (2, 512, 256)\n",
      "파일 10: S1A_IW_SLC__1SDV_20200702T093116_20200702T093146_033274_03DAEF_84AF_Orb_Cal_IW1_dual_pol_complex_0_2048.npy -> 형상: (2, 512, 256)\n",
      "\n",
      "발견된 형상들: {(2, 512, 256)}\n",
      "가장 일반적인 형상: ((2, 512, 256), 10)\n",
      "\n",
      "형상 (2, 512, 256)에 대한 윈도우 호환성:\n",
      "  윈도우 (8,4): H=True, W=True\n",
      "    -> 권장 윈도우 크기!\n",
      "  윈도우 (16,8): H=True, W=True\n",
      "    -> 권장 윈도우 크기!\n",
      "  윈도우 (32,16): H=True, W=True\n",
      "    -> 권장 윈도우 크기!\n",
      "파일 7: S1A_IW_SLC__1SDV_20200702T093116_20200702T093146_033274_03DAEF_84AF_Orb_Cal_IW1_dual_pol_complex_0_12288.npy -> 형상: (2, 512, 256)\n",
      "파일 8: S1A_IW_SLC__1SDV_20200702T093116_20200702T093146_033274_03DAEF_84AF_Orb_Cal_IW1_dual_pol_complex_0_12800.npy -> 형상: (2, 512, 256)\n",
      "파일 9: S1A_IW_SLC__1SDV_20200702T093116_20200702T093146_033274_03DAEF_84AF_Orb_Cal_IW1_dual_pol_complex_0_1536.npy -> 형상: (2, 512, 256)\n",
      "파일 10: S1A_IW_SLC__1SDV_20200702T093116_20200702T093146_033274_03DAEF_84AF_Orb_Cal_IW1_dual_pol_complex_0_2048.npy -> 형상: (2, 512, 256)\n",
      "\n",
      "발견된 형상들: {(2, 512, 256)}\n",
      "가장 일반적인 형상: ((2, 512, 256), 10)\n",
      "\n",
      "형상 (2, 512, 256)에 대한 윈도우 호환성:\n",
      "  윈도우 (8,4): H=True, W=True\n",
      "    -> 권장 윈도우 크기!\n",
      "  윈도우 (16,8): H=True, W=True\n",
      "    -> 권장 윈도우 크기!\n",
      "  윈도우 (32,16): H=True, W=True\n",
      "    -> 권장 윈도우 크기!\n"
     ]
    }
   ],
   "source": [
    "# 실제 데이터셋의 패치들 형상 확인\n",
    "import glob\n",
    "import numpy as np\n",
    "\n",
    "data_dir = r\"D:\\Sentinel-1\\data\\processed_2\"\n",
    "pattern = \"**/*/S1A_*_dual_pol_complex_*.npy\"\n",
    "patch_files = glob.glob(os.path.join(data_dir, pattern), recursive=True)\n",
    "\n",
    "print(f\"찾은 패치 파일 수: {len(patch_files)}\")\n",
    "\n",
    "# 처음 몇 개 파일의 형상 확인\n",
    "shapes = []\n",
    "for i, file_path in enumerate(patch_files[:10]):\n",
    "    try:\n",
    "        data = np.load(file_path)\n",
    "        shapes.append(data.shape)\n",
    "        print(f\"파일 {i+1}: {os.path.basename(file_path)} -> 형상: {data.shape}\")\n",
    "    except Exception as e:\n",
    "        print(f\"파일 {i+1} 로드 실패: {e}\")\n",
    "        \n",
    "print(f\"\\n발견된 형상들: {set(shapes)}\")\n",
    "\n",
    "# 가장 일반적인 형상 찾기\n",
    "from collections import Counter\n",
    "shape_counts = Counter(shapes)\n",
    "most_common_shape = shape_counts.most_common(1)[0] if shape_counts else None\n",
    "print(f\"가장 일반적인 형상: {most_common_shape}\")\n",
    "\n",
    "# 윈도우 호환성 확인\n",
    "if most_common_shape:\n",
    "    shape = most_common_shape[0]\n",
    "    if len(shape) == 3:  # (channels, height, width)\n",
    "        h, w = shape[1], shape[2]\n",
    "        print(f\"\\n형상 {shape}에 대한 윈도우 호환성:\")\n",
    "        for win_h, win_w in [(8,4), (16,8), (32,16)]:\n",
    "            h_compat = h % win_h == 0\n",
    "            w_compat = w % win_w == 0\n",
    "            print(f\"  윈도우 ({win_h},{win_w}): H={h_compat}, W={w_compat}\")\n",
    "            if h_compat and w_compat:\n",
    "                print(f\"    -> 권장 윈도우 크기!\")"
   ]
  }
 ],
 "metadata": {
  "kernelspec": {
   "display_name": "snap",
   "language": "python",
   "name": "python3"
  },
  "language_info": {
   "codemirror_mode": {
    "name": "ipython",
    "version": 3
   },
   "file_extension": ".py",
   "mimetype": "text/x-python",
   "name": "python",
   "nbconvert_exporter": "python",
   "pygments_lexer": "ipython3",
   "version": "3.9.23"
  }
 },
 "nbformat": 4,
 "nbformat_minor": 5
}
